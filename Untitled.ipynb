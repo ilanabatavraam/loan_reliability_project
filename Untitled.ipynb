{
 "cells": [
  {
   "cell_type": "code",
   "execution_count": 5,
   "id": "a8269563-d7cc-4a9c-8b7c-57c612307535",
   "metadata": {
    "jupyter": {
     "source_hidden": true
    }
   },
   "outputs": [
    {
     "name": "stdout",
     "output_type": "stream",
     "text": [
      "Collecting pandas\n",
      "  Downloading pandas-2.2.3-cp313-cp313-macosx_11_0_arm64.whl.metadata (89 kB)\n",
      "Collecting numpy>=1.26.0 (from pandas)\n",
      "  Downloading numpy-2.2.2-cp313-cp313-macosx_14_0_arm64.whl.metadata (62 kB)\n",
      "Requirement already satisfied: python-dateutil>=2.8.2 in /Library/Frameworks/Python.framework/Versions/3.13/lib/python3.13/site-packages (from pandas) (2.9.0.post0)\n",
      "Collecting pytz>=2020.1 (from pandas)\n",
      "  Downloading pytz-2025.1-py2.py3-none-any.whl.metadata (22 kB)\n",
      "Collecting tzdata>=2022.7 (from pandas)\n",
      "  Downloading tzdata-2025.1-py2.py3-none-any.whl.metadata (1.4 kB)\n",
      "Requirement already satisfied: six>=1.5 in /Library/Frameworks/Python.framework/Versions/3.13/lib/python3.13/site-packages (from python-dateutil>=2.8.2->pandas) (1.17.0)\n",
      "Downloading pandas-2.2.3-cp313-cp313-macosx_11_0_arm64.whl (11.3 MB)\n",
      "\u001b[2K   \u001b[90m━━━━━━━━━━━━━━━━━━━━━━━━━━━━━━━━━━━━━━━━\u001b[0m \u001b[32m11.3/11.3 MB\u001b[0m \u001b[31m647.6 kB/s\u001b[0m eta \u001b[36m0:00:00\u001b[0m00:01\u001b[0m00:01\u001b[0m\n",
      "Downloading numpy-2.2.2-cp313-cp313-macosx_14_0_arm64.whl (5.1 MB)\n",
      "\u001b[2K   \u001b[90m━━━━━━━━━━━━━━━━━━━━━━━━━━━━━━━━━━━━━━━━\u001b[0m \u001b[32m5.1/5.1 MB\u001b[0m \u001b[31m291.4 kB/s\u001b[0m eta \u001b[36m0:00:00\u001b[0ma \u001b[36m0:00:01\u001b[0m\n",
      "Downloading pytz-2025.1-py2.py3-none-any.whl (507 kB)\n",
      "Downloading tzdata-2025.1-py2.py3-none-any.whl (346 kB)\n",
      "Installing collected packages: pytz, tzdata, numpy, pandas\n",
      "Successfully installed numpy-2.2.2 pandas-2.2.3 pytz-2025.1 tzdata-2025.1\n",
      "\n",
      "\u001b[1m[\u001b[0m\u001b[34;49mnotice\u001b[0m\u001b[1;39;49m]\u001b[0m\u001b[39;49m A new release of pip is available: \u001b[0m\u001b[31;49m24.3.1\u001b[0m\u001b[39;49m -> \u001b[0m\u001b[32;49m25.0\u001b[0m\n",
      "\u001b[1m[\u001b[0m\u001b[34;49mnotice\u001b[0m\u001b[1;39;49m]\u001b[0m\u001b[39;49m To update, run: \u001b[0m\u001b[32;49mpip install --upgrade pip\u001b[0m\n"
     ]
    }
   ],
   "source": [
    "!pip install pandas\n",
    "import pandas as pd"
   ]
  },
  {
   "cell_type": "code",
   "execution_count": 9,
   "id": "0716735e-c13d-4ce6-abd8-ffaf898b8ed6",
   "metadata": {},
   "outputs": [
    {
     "name": "stdout",
     "output_type": "stream",
     "text": [
      "   children  days_employed  dob_years education  education_id  \\\n",
      "0         1   -8437.673028         42    высшее             0   \n",
      "1         1   -4024.803754         36   среднее             1   \n",
      "2         0   -5623.422610         33   Среднее             1   \n",
      "3         3   -4124.747207         32   среднее             1   \n",
      "4         0  340266.072047         53   среднее             1   \n",
      "5         0    -926.185831         27    высшее             0   \n",
      "6         0   -2879.202052         43    высшее             0   \n",
      "7         0    -152.779569         50   СРЕДНЕЕ             1   \n",
      "8         2   -6929.865299         35    ВЫСШЕЕ             0   \n",
      "9         0   -2188.756445         41   среднее             1   \n",
      "\n",
      "      family_status  family_status_id gender income_type  debt   total_income  \\\n",
      "0   женат / замужем                 0      F   сотрудник     0  253875.639453   \n",
      "1   женат / замужем                 0      F   сотрудник     0  112080.014102   \n",
      "2   женат / замужем                 0      M   сотрудник     0  145885.952297   \n",
      "3   женат / замужем                 0      M   сотрудник     0  267628.550329   \n",
      "4  гражданский брак                 1      F   пенсионер     0  158616.077870   \n",
      "5  гражданский брак                 1      M   компаньон     0  255763.565419   \n",
      "6   женат / замужем                 0      F   компаньон     0  240525.971920   \n",
      "7   женат / замужем                 0      M   сотрудник     0  135823.934197   \n",
      "8  гражданский брак                 1      F   сотрудник     0   95856.832424   \n",
      "9   женат / замужем                 0      M   сотрудник     0  144425.938277   \n",
      "\n",
      "                      purpose  \n",
      "0               покупка жилья  \n",
      "1     приобретение автомобиля  \n",
      "2               покупка жилья  \n",
      "3  дополнительное образование  \n",
      "4             сыграть свадьбу  \n",
      "5               покупка жилья  \n",
      "6           операции с жильем  \n",
      "7                 образование  \n",
      "8       на проведение свадьбы  \n",
      "9     покупка жилья для семьи  \n"
     ]
    }
   ],
   "source": [
    "df = pd.read_csv('./datasets/loan_reliability_project.csv')\n",
    "print(df.head(10))"
   ]
  },
  {
   "cell_type": "code",
   "execution_count": null,
   "id": "2cc84932-cf4b-4ce3-8315-c9a17eb97a5b",
   "metadata": {},
   "outputs": [],
   "source": []
  }
 ],
 "metadata": {
  "kernelspec": {
   "display_name": "Python 3 (ipykernel)",
   "language": "python",
   "name": "python3"
  },
  "language_info": {
   "codemirror_mode": {
    "name": "ipython",
    "version": 3
   },
   "file_extension": ".py",
   "mimetype": "text/x-python",
   "name": "python",
   "nbconvert_exporter": "python",
   "pygments_lexer": "ipython3",
   "version": "3.13.1"
  }
 },
 "nbformat": 4,
 "nbformat_minor": 5
}
