{
 "cells": [
  {
   "cell_type": "code",
   "execution_count": 1,
   "id": "f3411bcd-cdea-4fc7-8cda-3c15d19cdd74",
   "metadata": {},
   "outputs": [],
   "source": [
    "import pandas as pd\n",
    "import matplotlib.pyplot as plt"
   ]
  },
  {
   "cell_type": "markdown",
   "id": "dbd0ac2b-e540-4536-9f2c-7879c5193be6",
   "metadata": {},
   "source": [
    "# I need to answer the questions:\n",
    "\n",
    "- Is there a relationship between the number of children and timely loan repayment?  \n",
    "- Is there a relationship between marital status and timely loan repayment?  \n",
    "- How do different loan purposes affect timely loan repayment?"
   ]
  },
  {
   "cell_type": "markdown",
   "id": "b26ac363-0fdd-4459-9f41-9438bde85c32",
   "metadata": {},
   "source": [
    "## Preparing data for analysis"
   ]
  },
  {
   "cell_type": "code",
   "execution_count": 2,
   "id": "0716735e-c13d-4ce6-abd8-ffaf898b8ed6",
   "metadata": {},
   "outputs": [
    {
     "name": "stdout",
     "output_type": "stream",
     "text": [
      "   children  days_employed  dob_years education  education_id  \\\n",
      "0         1   -8437.673028         42    высшее             0   \n",
      "1         1   -4024.803754         36   среднее             1   \n",
      "2         0   -5623.422610         33   Среднее             1   \n",
      "3         3   -4124.747207         32   среднее             1   \n",
      "4         0  340266.072047         53   среднее             1   \n",
      "\n",
      "      family_status  family_status_id gender income_type  debt   total_income  \\\n",
      "0   женат / замужем                 0      F   сотрудник     0  253875.639453   \n",
      "1   женат / замужем                 0      F   сотрудник     0  112080.014102   \n",
      "2   женат / замужем                 0      M   сотрудник     0  145885.952297   \n",
      "3   женат / замужем                 0      M   сотрудник     0  267628.550329   \n",
      "4  гражданский брак                 1      F   пенсионер     0  158616.077870   \n",
      "\n",
      "                      purpose  \n",
      "0               покупка жилья  \n",
      "1     приобретение автомобиля  \n",
      "2               покупка жилья  \n",
      "3  дополнительное образование  \n",
      "4             сыграть свадьбу  \n"
     ]
    }
   ],
   "source": [
    "df = pd.read_csv('./datasets/loan_reliability_project.csv')\n",
    "print(df.head(5))"
   ]
  },
  {
   "cell_type": "code",
   "execution_count": 3,
   "id": "2cc84932-cf4b-4ce3-8315-c9a17eb97a5b",
   "metadata": {},
   "outputs": [
    {
     "name": "stdout",
     "output_type": "stream",
     "text": [
      "days_employed equals 0 (should be 0): 0.0\n",
      "Data types of num cells: (dtype('float64'), dtype('int64'), dtype('float64'))\n",
      "Data types of num cells: float64\n",
      "\n",
      "children values: children\n",
      " 0     14149\n",
      " 1      4818\n",
      " 2      2055\n",
      " 3       330\n",
      " 20       76\n",
      "-1        47\n",
      " 4        41\n",
      " 5         9\n",
      "Name: count, dtype: int64\n"
     ]
    }
   ],
   "source": [
    "# There was more than 2000 null values in 'days_employed' column which is more than 10% of total values.\n",
    "median_days_employed = df.loc[df['days_employed'] > 0, 'days_employed'].median()\n",
    "# I changed missed values to median value because it handles outliers well,\n",
    "# keeps the data balanced, and ensures the analysis stays accurate\n",
    "df['days_employed'] = df['days_employed'].fillna(value=median_days_employed)\n",
    "\n",
    "\n",
    "# Negative values (18080) in 'days_employed' column seems incorrect and I changed them to median too\n",
    "df.loc[df['days_employed'] <= 0, 'days_employed'] = median_days_employed\n",
    "\n",
    "# Checking that all the values are grater than 0\n",
    "print(f\"days_employed equals 0 (should be 0): {df.loc[df['days_employed'] <= 0, 'days_employed'].sum()}\")\n",
    "\n",
    "# Making sure the type is correct\n",
    "print(f\"Data types of num cells: {df['days_employed'].dtype, df['dob_years'].dtype, df['total_income'].dtype}\")\n",
    "#float64 int64 float64\n",
    "\n",
    "# It's more comfortable to work with int numbers in salary column\n",
    "median_income = df['debt'].median()\n",
    "df['total_income'] = df['total_income'].fillna(median_income)\n",
    "print(f\"Data types of num cells: {df['total_income'].dtype}\")\n",
    "\n",
    "# Removing NaN in debt\n",
    "median_debt = df['debt'].median()\n",
    "df['debt'] = df['debt'].fillna(median_debt)\n",
    "\n",
    "# Checking num of children\n",
    "print()\n",
    "print(f\"children values: {df['children'].value_counts()}\")\n",
    "\n",
    "\n",
    "# The value of 20 children seems highly unlikely\n",
    "median_children = df['children'].median()\n",
    "df.loc[df['children'] == 20, 'children'] = median_children\n",
    "# A value of -1 for children is impossible and it will be replaced with median_children\n",
    "df.loc[df['children'] == -1, 'children'] = 0"
   ]
  },
  {
   "cell_type": "code",
   "execution_count": 4,
   "id": "96e713f5-3990-454a-9f4a-77952ed7a92a",
   "metadata": {},
   "outputs": [
    {
     "name": "stdout",
     "output_type": "stream",
     "text": [
      "education: ['высшее' 'среднее' 'Среднее' 'СРЕДНЕЕ' 'ВЫСШЕЕ' 'неоконченное высшее'\n",
      " 'начальное' 'Высшее' 'НЕОКОНЧЕННОЕ ВЫСШЕЕ' 'Неоконченное высшее'\n",
      " 'НАЧАЛЬНОЕ' 'Начальное' 'Ученая степень' 'УЧЕНАЯ СТЕПЕНЬ'\n",
      " 'ученая степень']\n",
      "family_status: ['женат / замужем' 'гражданский брак' 'вдовец / вдова' 'в разводе'\n",
      " 'Не женат / не замужем']\n",
      "income_type: ['сотрудник' 'пенсионер' 'компаньон' 'госслужащий' 'безработный'\n",
      " 'предприниматель' 'студент' 'в декрете']\n",
      "purpose: ['покупка жилья' 'приобретение автомобиля' 'дополнительное образование'\n",
      " 'сыграть свадьбу' 'операции с жильем' 'образование'\n",
      " 'на проведение свадьбы' 'покупка жилья для семьи' 'покупка недвижимости'\n",
      " 'покупка коммерческой недвижимости' 'покупка жилой недвижимости'\n",
      " 'строительство собственной недвижимости' 'недвижимость'\n",
      " 'строительство недвижимости' 'на покупку подержанного автомобиля'\n",
      " 'на покупку своего автомобиля' 'операции с коммерческой недвижимостью'\n",
      " 'строительство жилой недвижимости' 'жилье'\n",
      " 'операции со своей недвижимостью' 'автомобили' 'заняться образованием'\n",
      " 'сделка с подержанным автомобилем' 'получение образования' 'автомобиль'\n",
      " 'свадьба' 'получение дополнительного образования' 'покупка своего жилья'\n",
      " 'операции с недвижимостью' 'получение высшего образования'\n",
      " 'свой автомобиль' 'сделка с автомобилем' 'профильное образование'\n",
      " 'высшее образование' 'покупка жилья для сдачи' 'на покупку автомобиля'\n",
      " 'ремонт жилью' 'заняться высшим образованием']\n",
      "\n",
      "education: ['высшее' 'среднее' 'неоконченное высшее' 'начальное' 'ученая степень']\n"
     ]
    }
   ],
   "source": [
    "# Checking for duplicates in columns education, family_status, income_type, purpose\n",
    "\n",
    "print(f'education: {df['education'].unique()}')\n",
    "print(f'family_status: {df['family_status'].unique()}')\n",
    "print(f'income_type: {df['income_type'].unique()}')\n",
    "print(f'purpose: {df['purpose'].unique()}')\n",
    "\n",
    "# There are duplicates in education and purpose columns\n",
    "\n",
    "# To lowcase\n",
    "df.loc[:, 'education'] = df.loc[:, 'education'].str.lower()\n",
    "\n",
    "print()\n",
    "print(f'education: {df['education'].unique()}')"
   ]
  },
  {
   "cell_type": "code",
   "execution_count": 5,
   "id": "4a7c425a-b2f1-4e0f-b53d-7b672acbddf4",
   "metadata": {},
   "outputs": [
    {
     "name": "stdout",
     "output_type": "stream",
     "text": [
      "purpose_categories: ['операции с недвижимостью' 'операции с автомобилем'\n",
      " 'получение образования' 'проведение свадьбы']\n",
      "All the purposes are categorized\n"
     ]
    }
   ],
   "source": [
    "# I'd like to create a new column to group the data from 'purpose' column\n",
    "\n",
    "def categorize_purpose(purpose):\n",
    "    purpose = purpose.lower().strip()\n",
    "    if 'жиль' in purpose:\n",
    "        return 'операции с недвижимостью'\n",
    "    elif 'недвижимост' in purpose:\n",
    "        return 'операции с недвижимостью'\n",
    "    elif 'авто' in purpose:\n",
    "        return 'операции с автомобилем'\n",
    "    elif 'свадьб' in purpose:\n",
    "        return 'проведение свадьбы'\n",
    "    elif 'образован' in purpose:\n",
    "        return 'получение образования'\n",
    "    else:\n",
    "        return 'прочее'\n",
    "\n",
    "df['purpose_categories'] = df['purpose'].apply(categorize_purpose)\n",
    "\n",
    "print(f'purpose_categories: {df['purpose_categories'].unique()}')\n",
    "\n",
    "# Check if all categories are collected\n",
    "if df.loc[df['purpose_categories'] == 'прочее'].shape[0] == 0:\n",
    "    print('All the purposes are categorized')\n",
    "else:\n",
    "    print(df.loc[df['purpose_categories'] == 'прочее'])    "
   ]
  },
  {
   "cell_type": "markdown",
   "id": "8b3ea1ac-be13-44d6-b4e2-327e0bc2af83",
   "metadata": {},
   "source": [
    "## The original sheet is ready for analysis. The next step is decomposition and create reference tables"
   ]
  },
  {
   "cell_type": "code",
   "execution_count": 6,
   "id": "13e3bedc-6706-4f5d-ad67-ed9c7d4f9723",
   "metadata": {},
   "outputs": [
    {
     "name": "stdout",
     "output_type": "stream",
     "text": [
      "   children  days_employed  dob_years education  education_id  \\\n",
      "0         1  365213.306266         42    высшее             0   \n",
      "1         1  365213.306266         36   среднее             1   \n",
      "2         0  365213.306266         33   среднее             1   \n",
      "3         3  365213.306266         32   среднее             1   \n",
      "4         0  340266.072047         53   среднее             1   \n",
      "\n",
      "      family_status  family_status_id gender income_type  debt   total_income  \\\n",
      "0   женат / замужем                 0      F   сотрудник     0  253875.639453   \n",
      "1   женат / замужем                 0      F   сотрудник     0  112080.014102   \n",
      "2   женат / замужем                 0      M   сотрудник     0  145885.952297   \n",
      "3   женат / замужем                 0      M   сотрудник     0  267628.550329   \n",
      "4  гражданский брак                 1      F   пенсионер     0  158616.077870   \n",
      "\n",
      "                      purpose        purpose_categories  \n",
      "0               покупка жилья  операции с недвижимостью  \n",
      "1     приобретение автомобиля    операции с автомобилем  \n",
      "2               покупка жилья  операции с недвижимостью  \n",
      "3  дополнительное образование     получение образования  \n",
      "4             сыграть свадьбу        проведение свадьбы  \n"
     ]
    }
   ],
   "source": [
    "print(df.head(5))"
   ]
  },
  {
   "cell_type": "code",
   "execution_count": 7,
   "id": "cd94a39a-3ea3-4597-8659-138503efc30e",
   "metadata": {},
   "outputs": [
    {
     "name": "stdout",
     "output_type": "stream",
     "text": [
      "             education  education_id\n",
      "0               высшее             0\n",
      "1              среднее             1\n",
      "2  неоконченное высшее             2\n",
      "3            начальное             3\n",
      "4       ученая степень             4\n",
      "\n",
      "           family_status  family_status_id\n",
      "0        женат / замужем                 0\n",
      "1       гражданский брак                 1\n",
      "2         вдовец / вдова                 2\n",
      "3              в разводе                 3\n",
      "4  Не женат / не замужем                 4\n"
     ]
    }
   ],
   "source": [
    "# Creating reference tables\n",
    "education_df = df[['education', 'education_id']].drop_duplicates().reset_index(drop=True)\n",
    "family_status_df = df[['family_status', 'family_status_id']].drop_duplicates().reset_index(drop=True)\n",
    "\n",
    "# Removing extra data from the df\n",
    "df.drop(columns=['education_id', 'family_status'], inplace=True)\n",
    "\n",
    "print(education_df)\n",
    "print()\n",
    "print(family_status_df)"
   ]
  },
  {
   "cell_type": "code",
   "execution_count": 8,
   "id": "e8c6f4e8-94f6-488c-a63d-79b6d96bdc30",
   "metadata": {},
   "outputs": [
    {
     "name": "stdout",
     "output_type": "stream",
     "text": [
      "   children  days_employed  dob_years education  family_status_id gender  \\\n",
      "0         1  365213.306266         42    высшее                 0      F   \n",
      "1         1  365213.306266         36   среднее                 0      F   \n",
      "2         0  365213.306266         33   среднее                 0      M   \n",
      "3         3  365213.306266         32   среднее                 0      M   \n",
      "4         0  340266.072047         53   среднее                 1      F   \n",
      "\n",
      "  income_type  debt   total_income                     purpose  \\\n",
      "0   сотрудник     0  253875.639453               покупка жилья   \n",
      "1   сотрудник     0  112080.014102     приобретение автомобиля   \n",
      "2   сотрудник     0  145885.952297               покупка жилья   \n",
      "3   сотрудник     0  267628.550329  дополнительное образование   \n",
      "4   пенсионер     0  158616.077870             сыграть свадьбу   \n",
      "\n",
      "         purpose_categories  \n",
      "0  операции с недвижимостью  \n",
      "1    операции с автомобилем  \n",
      "2  операции с недвижимостью  \n",
      "3     получение образования  \n",
      "4        проведение свадьбы  \n"
     ]
    }
   ],
   "source": [
    "print(df.head(5))"
   ]
  },
  {
   "cell_type": "markdown",
   "id": "9d1c9e70-73e8-4a35-a752-8c45ad4bb817",
   "metadata": {},
   "source": [
    "## Analysis:"
   ]
  },
  {
   "cell_type": "markdown",
   "id": "b712c77e-5cae-459d-a6b1-38775c2ef8c5",
   "metadata": {},
   "source": [
    "## relationship between the number of children and timely loan repayment"
   ]
  },
  {
   "cell_type": "code",
   "execution_count": 14,
   "id": "bd66e8a5-f356-4ce9-81c7-cd08b1da8511",
   "metadata": {},
   "outputs": [
    {
     "name": "stdout",
     "output_type": "stream",
     "text": [
      "  children  count   sum debt_ratio\n",
      "             debt  debt           \n",
      "0        0  14272  1072   7.511211\n",
      "1        1   4818   444   9.215442\n",
      "2        2   2055   194   9.440389\n",
      "3        3    330    27   8.181818\n",
      "4        4     41     4   9.756098\n",
      "5        5      9     0   0.000000\n",
      "\n"
     ]
    },
    {
     "data": {
      "image/png": "[encoded data removed]",
      "text/plain": [
       "<Figure size 640x480 with 1 Axes>"
      ]
     },
     "metadata": {},
     "output_type": "display_data"
    }
   ],
   "source": [
    "pivot_children = df.pivot_table(\n",
    "    index='children', \n",
    "    values='debt', \n",
    "    aggfunc=['count', 'sum']\n",
    ").reset_index()\n",
    "pivot_children['debt_ratio'] = pivot_children['sum'] / pivot_children['count'] * 100\n",
    "\n",
    "print(pivot_children)\n",
    "print()\n",
    "plt.barh(pivot_children['children'], pivot_children['debt_ratio'], color='#0088cc', edgecolor='black')\n",
    "plt.title('Debt Ratio by number of children')\n",
    "plt.xlabel('Debt Ratio %')\n",
    "plt.ylabel('Number of children')\n",
    "plt.tight_layout()\n",
    "plt.show()"
   ]
  },
  {
   "cell_type": "markdown",
   "id": "ce2a3f90-754a-45e0-bb50-c05a5dff3a45",
   "metadata": {},
   "source": [
    "## relationship between marital status and timely loan repaymen"
   ]
  },
  {
   "cell_type": "code",
   "execution_count": 13,
   "id": "e7244ec3-7994-4534-b188-820adbbaf48d",
   "metadata": {},
   "outputs": [
    {
     "name": "stdout",
     "output_type": "stream",
     "text": [
      "   family_status_id  total_clients  total_debtors  debt_ratio\n",
      "0                 0          12380            931    7.520194\n",
      "1                 1           4177            388    9.288963\n",
      "2                 2            960             63    6.562500\n",
      "3                 3           1195             85    7.112971\n",
      "4                 4           2813            274    9.740491\n",
      "\n"
     ]
    },
    {
     "data": {
      "image/png": "[encoded data removed]",
      "text/plain": [
       "<Figure size 640x480 with 1 Axes>"
      ]
     },
     "metadata": {},
     "output_type": "display_data"
    }
   ],
   "source": [
    "marital_grouped = df.groupby('family_status_id').agg(\n",
    "    total_clients=('debt', 'count'),\n",
    "    total_debtors=('debt', 'sum')\n",
    ").reset_index()\n",
    "marital_grouped['debt_ratio'] = marital_grouped['total_debtors'] / marital_grouped['total_clients'] * 100\n",
    "\n",
    "print(marital_grouped)\n",
    "print()\n",
    "plt.barh(marital_grouped['family_status_id'], marital_grouped['debt_ratio'], color='#0088cc', edgecolor='black')\n",
    "plt.title('Debt Ratio by marital status')\n",
    "plt.xlabel('Debt Ratio %')\n",
    "plt.ylabel('Status')\n",
    "plt.tight_layout()\n",
    "plt.show()"
   ]
  },
  {
   "cell_type": "markdown",
   "id": "978e8efe-fe30-458b-96bd-69d3778b580c",
   "metadata": {},
   "source": [
    "## loan purposes affect timely loan repayment"
   ]
  },
  {
   "cell_type": "code",
   "execution_count": 11,
   "id": "5b629ff7-e78c-4d25-b813-d63c381d3f76",
   "metadata": {},
   "outputs": [
    {
     "name": "stdout",
     "output_type": "stream",
     "text": [
      "         purpose_categories  total_credits  total_debts  debt_ratio\n",
      "0    операции с автомобилем           4315          403    9.339513\n",
      "1     получение образования           4022          370    9.199403\n",
      "2        проведение свадьбы           2348          186    7.921635\n",
      "3  операции с недвижимостью          10840          782    7.214022\n",
      "\n"
     ]
    },
    {
     "data": {
      "image/png": "[encoded data removed]",
      "text/plain": [
       "<Figure size 640x480 with 1 Axes>"
      ]
     },
     "metadata": {},
     "output_type": "display_data"
    }
   ],
   "source": [
    "debt_analysis = pd.DataFrame({\n",
    "    'total_credits': df.groupby('purpose_categories')['debt'].count(),  \n",
    "    'total_debts': df.groupby('purpose_categories')['debt'].sum(),   \n",
    "    'debt_ratio': df.groupby('purpose_categories')['debt'].sum() / df.groupby('purpose_categories')['debt'].count() * 100\n",
    "}).sort_values(by='debt_ratio', ascending=False).reset_index()\n",
    "\n",
    "print(debt_analysis)\n",
    "print()\n",
    "\n",
    "\n",
    "plt.barh(debt_analysis['purpose_categories'], debt_analysis['debt_ratio'], color='#0088cc', edgecolor='black')\n",
    "plt.title('Debt Ratio by categories')\n",
    "plt.xlabel('Debt Ratio %')\n",
    "plt.ylabel('Purpose Categories')\n",
    "plt.tight_layout()\n",
    "plt.show()"
   ]
  },
  {
   "cell_type": "markdown",
   "id": "c43c1be4-9a6e-4f0c-80cd-0f056e0ed488",
   "metadata": {},
   "source": [
    "# Overall:\n",
    "\n",
    "### - Is there a relationship between the number of children and timely loan repayment?  \n",
    "- Families with 0 children have the largest number of loans (14,272), but their percentage of debt is the lowest (7.51%).\n",
    "- Families with 4 children make up the smallest group (41 clients), but they have the highest percentage of arrears (9.76%).\n",
    "- Families with 1-3 children are in the middle range both in terms of the number of clients and the percentage of arrears.\n",
    " \n",
    "Families without children are more likely to repay the loan.\n",
    "\n",
    "### - Is there a relationship between marital status and timely loan repayment?  \n",
    "- People in a civil marriage or unmarried (status 1, 4): The highest debt Ratio. They probably have poorer financial stability or a higher risk of insecurity.\n",
    "- Married (status 0): The lowest debt ratio. Marriage can increase financial stabilit.\n",
    "- Widows or divorced (for example, status 2 or 3) Moderate debt ratio, but better than that of civil marriages.\n",
    "\n",
    "Marriage has a positive effect on creditworthiness.\n",
    "\n",
    "### - How do different loan purposes affect timely loan repayment?\n",
    "- Real estate loans are the most stable loans with the lowest percentage of arrears.\n",
    "- Car loans are more difficult to repay"
   ]
  }
 ],
 "metadata": {
  "kernelspec": {
   "display_name": "Python 3 (ipykernel)",
   "language": "python",
   "name": "python3"
  },
  "language_info": {
   "codemirror_mode": {
    "name": "ipython",
    "version": 3
   },
   "file_extension": ".py",
   "mimetype": "text/x-python",
   "name": "python",
   "nbconvert_exporter": "python",
   "pygments_lexer": "ipython3",
   "version": "3.13.1"
  }
 },
 "nbformat": 4,
 "nbformat_minor": 5
}
