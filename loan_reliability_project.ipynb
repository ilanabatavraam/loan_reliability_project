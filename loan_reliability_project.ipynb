{
 "cells": [
  {
   "cell_type": "code",
   "execution_count": 21,
   "id": "a8269563-d7cc-4a9c-8b7c-57c612307535",
   "metadata": {},
   "outputs": [],
   "source": [
    "import pandas as pd\n",
    "\n",
    "\n",
    "# Answers to the questions can be placed in Jupyter Notebook cells of type markdown.\n",
    "\n",
    "# - Is there a relationship between the number of children and timely loan repayment?  \n",
    "# - Is there a relationship between marital status and timely loan repayment?  \n",
    "# - Is there a relationship between income level and timely loan repayment?  \n",
    "# - How do different loan purposes affect timely loan repayment?"
   ]
  },
  {
   "cell_type": "code",
   "execution_count": 2,
   "id": "0716735e-c13d-4ce6-abd8-ffaf898b8ed6",
   "metadata": {
    "jupyter": {
     "source_hidden": true
    }
   },
   "outputs": [
    {
     "name": "stdout",
     "output_type": "stream",
     "text": [
      "   children  days_employed  dob_years education  education_id  \\\n",
      "0         1   -8437.673028         42    высшее             0   \n",
      "1         1   -4024.803754         36   среднее             1   \n",
      "2         0   -5623.422610         33   Среднее             1   \n",
      "3         3   -4124.747207         32   среднее             1   \n",
      "4         0  340266.072047         53   среднее             1   \n",
      "\n",
      "      family_status  family_status_id gender income_type  debt   total_income  \\\n",
      "0   женат / замужем                 0      F   сотрудник     0  253875.639453   \n",
      "1   женат / замужем                 0      F   сотрудник     0  112080.014102   \n",
      "2   женат / замужем                 0      M   сотрудник     0  145885.952297   \n",
      "3   женат / замужем                 0      M   сотрудник     0  267628.550329   \n",
      "4  гражданский брак                 1      F   пенсионер     0  158616.077870   \n",
      "\n",
      "                      purpose  \n",
      "0               покупка жилья  \n",
      "1     приобретение автомобиля  \n",
      "2               покупка жилья  \n",
      "3  дополнительное образование  \n",
      "4             сыграть свадьбу  \n"
     ]
    }
   ],
   "source": [
    "df = pd.read_csv('./datasets/loan_reliability_project.csv')\n",
    "print(df.head(5))"
   ]
  },
  {
   "cell_type": "code",
   "execution_count": 3,
   "id": "2cc84932-cf4b-4ce3-8315-c9a17eb97a5b",
   "metadata": {
    "jupyter": {
     "source_hidden": true
    }
   },
   "outputs": [],
   "source": [
    "# There was more than 2000 null values in 'days_employed' column which is more than 10% of total values.\n",
    "median_days_employed = df.loc[df['days_employed'] > 0, 'days_employed'].median()\n",
    "# I changed missed values to median value because it handles outliers well,\n",
    "# keeps the data balanced, and ensures the analysis stays accurate\n",
    "df['days_employed'] = df['days_employed'].fillna(value=median_days_employed)"
   ]
  },
  {
   "cell_type": "code",
   "execution_count": 4,
   "id": "80a8487c-879f-4228-9e3b-29fa62566d45",
   "metadata": {
    "jupyter": {
     "source_hidden": true
    }
   },
   "outputs": [
    {
     "name": "stdout",
     "output_type": "stream",
     "text": [
      "0.0\n"
     ]
    }
   ],
   "source": [
    "# Negative values (18080) in 'days_employed' column seems incorrect and I changed them to median too\n",
    "df.loc[df['days_employed'] <= 0, 'days_employed'] = median_days_employed\n",
    "\n",
    "# Checking that all the values are grater than 0\n",
    "print(df.loc[df['days_employed'] <= 0, 'days_employed'].sum())"
   ]
  },
  {
   "cell_type": "code",
   "execution_count": 5,
   "id": "68837f2e-0e2b-49ce-9501-a87bfe5603f7",
   "metadata": {
    "jupyter": {
     "source_hidden": true
    }
   },
   "outputs": [
    {
     "name": "stdout",
     "output_type": "stream",
     "text": [
      "float64 int64 float64\n"
     ]
    }
   ],
   "source": [
    "# Making sure the type is correct\n",
    "print(df['days_employed'].dtype, df['dob_years'].dtype, df['total_income'].dtype)\n",
    "#float64 int64 float64"
   ]
  },
  {
   "cell_type": "code",
   "execution_count": 6,
   "id": "1aed8b1a-325c-4218-9d50-d38f70108c04",
   "metadata": {
    "jupyter": {
     "source_hidden": true
    }
   },
   "outputs": [
    {
     "name": "stdout",
     "output_type": "stream",
     "text": [
      "int64\n"
     ]
    }
   ],
   "source": [
    "# It's more comfortable to work with int numbers in salary column\n",
    "df['total_income'] = df['total_income'].fillna(0).astype('int')\n",
    "print(df['total_income'].dtype)"
   ]
  },
  {
   "cell_type": "code",
   "execution_count": 7,
   "id": "96e713f5-3990-454a-9f4a-77952ed7a92a",
   "metadata": {
    "jupyter": {
     "source_hidden": true
    }
   },
   "outputs": [
    {
     "name": "stdout",
     "output_type": "stream",
     "text": [
      "education: ['высшее' 'среднее' 'Среднее' 'СРЕДНЕЕ' 'ВЫСШЕЕ' 'неоконченное высшее'\n",
      " 'начальное' 'Высшее' 'НЕОКОНЧЕННОЕ ВЫСШЕЕ' 'Неоконченное высшее'\n",
      " 'НАЧАЛЬНОЕ' 'Начальное' 'Ученая степень' 'УЧЕНАЯ СТЕПЕНЬ'\n",
      " 'ученая степень']\n",
      "family_status: ['женат / замужем' 'гражданский брак' 'вдовец / вдова' 'в разводе'\n",
      " 'Не женат / не замужем']\n",
      "income_type: ['сотрудник' 'пенсионер' 'компаньон' 'госслужащий' 'безработный'\n",
      " 'предприниматель' 'студент' 'в декрете']\n",
      "purpose: ['покупка жилья' 'приобретение автомобиля' 'дополнительное образование'\n",
      " 'сыграть свадьбу' 'операции с жильем' 'образование'\n",
      " 'на проведение свадьбы' 'покупка жилья для семьи' 'покупка недвижимости'\n",
      " 'покупка коммерческой недвижимости' 'покупка жилой недвижимости'\n",
      " 'строительство собственной недвижимости' 'недвижимость'\n",
      " 'строительство недвижимости' 'на покупку подержанного автомобиля'\n",
      " 'на покупку своего автомобиля' 'операции с коммерческой недвижимостью'\n",
      " 'строительство жилой недвижимости' 'жилье'\n",
      " 'операции со своей недвижимостью' 'автомобили' 'заняться образованием'\n",
      " 'сделка с подержанным автомобилем' 'получение образования' 'автомобиль'\n",
      " 'свадьба' 'получение дополнительного образования' 'покупка своего жилья'\n",
      " 'операции с недвижимостью' 'получение высшего образования'\n",
      " 'свой автомобиль' 'сделка с автомобилем' 'профильное образование'\n",
      " 'высшее образование' 'покупка жилья для сдачи' 'на покупку автомобиля'\n",
      " 'ремонт жилью' 'заняться высшим образованием']\n"
     ]
    }
   ],
   "source": [
    "# Checking for duplicates in columns education, family_status, income_type, purpose\n",
    "\n",
    "print(f'education: {df['education'].unique()}')\n",
    "print(f'family_status: {df['family_status'].unique()}')\n",
    "print(f'income_type: {df['income_type'].unique()}')\n",
    "print(f'purpose: {df['purpose'].unique()}')\n",
    "\n",
    "# There are duplicates in education and purpose columns"
   ]
  },
  {
   "cell_type": "code",
   "execution_count": 8,
   "id": "437fa687-73b6-4e35-b01d-1dd29d156300",
   "metadata": {
    "jupyter": {
     "source_hidden": true
    }
   },
   "outputs": [
    {
     "name": "stdout",
     "output_type": "stream",
     "text": [
      "education: ['высшее' 'среднее' 'неоконченное высшее' 'начальное' 'ученая степень']\n"
     ]
    }
   ],
   "source": [
    "# To lowcase\n",
    "df.loc[:, 'education'] = df.loc[:, 'education'].str.lower()\n",
    "\n",
    "print(f'education: {df['education'].unique()}')"
   ]
  },
  {
   "cell_type": "code",
   "execution_count": 9,
   "id": "4a7c425a-b2f1-4e0f-b53d-7b672acbddf4",
   "metadata": {
    "jupyter": {
     "source_hidden": true
    }
   },
   "outputs": [
    {
     "name": "stdout",
     "output_type": "stream",
     "text": [
      "purpose_categories: ['операции с недвижимостью' 'операции с автомобилем'\n",
      " 'получение образования' 'проведение свадьбы']\n",
      "All the purposes are categorized\n"
     ]
    }
   ],
   "source": [
    "# I'd like to create a new column to group the data from 'purpose' column\n",
    "\n",
    "def categorize_purpose(purpose):\n",
    "    purpose = purpose.lower().strip()\n",
    "    if 'жиль' in purpose:\n",
    "        return 'операции с недвижимостью'\n",
    "    elif 'недвижимост' in purpose:\n",
    "        return 'операции с недвижимостью'\n",
    "    elif 'авто' in purpose:\n",
    "        return 'операции с автомобилем'\n",
    "    elif 'свадьб' in purpose:\n",
    "        return 'проведение свадьбы'\n",
    "    elif 'образован' in purpose:\n",
    "        return 'получение образования'\n",
    "    else:\n",
    "        return 'прочее'\n",
    "\n",
    "df['purpose_categories'] = df['purpose'].apply(categorize_purpose)\n",
    "\n",
    "print(f'purpose_categories: {df['purpose_categories'].unique()}')\n",
    "\n",
    "# Check if all categories are collected\n",
    "if df.loc[df['purpose_categories'] == 'прочее'].shape[0] == 0:\n",
    "    print('All the purposes are categorized')\n",
    "else:\n",
    "    print(df.loc[df['purpose_categories'] == 'прочее'])"
   ]
  },
  {
   "cell_type": "code",
   "execution_count": 10,
   "id": "13e3bedc-6706-4f5d-ad67-ed9c7d4f9723",
   "metadata": {
    "jupyter": {
     "source_hidden": true
    }
   },
   "outputs": [
    {
     "name": "stdout",
     "output_type": "stream",
     "text": [
      "   children  days_employed  dob_years education  education_id  \\\n",
      "0         1  365213.306266         42    высшее             0   \n",
      "1         1  365213.306266         36   среднее             1   \n",
      "2         0  365213.306266         33   среднее             1   \n",
      "3         3  365213.306266         32   среднее             1   \n",
      "4         0  340266.072047         53   среднее             1   \n",
      "\n",
      "      family_status  family_status_id gender income_type  debt  total_income  \\\n",
      "0   женат / замужем                 0      F   сотрудник     0        253875   \n",
      "1   женат / замужем                 0      F   сотрудник     0        112080   \n",
      "2   женат / замужем                 0      M   сотрудник     0        145885   \n",
      "3   женат / замужем                 0      M   сотрудник     0        267628   \n",
      "4  гражданский брак                 1      F   пенсионер     0        158616   \n",
      "\n",
      "                      purpose        purpose_categories  \n",
      "0               покупка жилья  операции с недвижимостью  \n",
      "1     приобретение автомобиля    операции с автомобилем  \n",
      "2               покупка жилья  операции с недвижимостью  \n",
      "3  дополнительное образование     получение образования  \n",
      "4             сыграть свадьбу        проведение свадьбы  \n"
     ]
    }
   ],
   "source": [
    "print(df.head(5))"
   ]
  },
  {
   "cell_type": "code",
   "execution_count": 11,
   "id": "cd94a39a-3ea3-4597-8659-138503efc30e",
   "metadata": {
    "jupyter": {
     "source_hidden": true
    }
   },
   "outputs": [
    {
     "name": "stdout",
     "output_type": "stream",
     "text": [
      "             education  education_id\n",
      "0               высшее             0\n",
      "1              среднее             1\n",
      "2  неоконченное высшее             2\n",
      "3            начальное             3\n",
      "4       ученая степень             4\n",
      "           family_status  family_status_id\n",
      "0        женат / замужем                 0\n",
      "1       гражданский брак                 1\n",
      "2         вдовец / вдова                 2\n",
      "3              в разводе                 3\n",
      "4  Не женат / не замужем                 4\n"
     ]
    }
   ],
   "source": [
    "# Removing extra data from the df\n",
    "education_df = df[['education', 'education_id']].drop_duplicates().reset_index(drop=True)\n",
    "family_status_df = df[['family_status', 'family_status_id']].drop_duplicates().reset_index(drop=True)\n",
    "df.drop(columns=['education', 'family_status'], inplace=True)\n",
    "print(education_df)\n",
    "print(family_status_df)"
   ]
  },
  {
   "cell_type": "code",
   "execution_count": 12,
   "id": "e8c6f4e8-94f6-488c-a63d-79b6d96bdc30",
   "metadata": {
    "jupyter": {
     "source_hidden": true
    }
   },
   "outputs": [
    {
     "name": "stdout",
     "output_type": "stream",
     "text": [
      "   children  days_employed  dob_years  education_id  family_status_id gender  \\\n",
      "0         1  365213.306266         42             0                 0      F   \n",
      "1         1  365213.306266         36             1                 0      F   \n",
      "2         0  365213.306266         33             1                 0      M   \n",
      "3         3  365213.306266         32             1                 0      M   \n",
      "4         0  340266.072047         53             1                 1      F   \n",
      "\n",
      "  income_type  debt  total_income                     purpose  \\\n",
      "0   сотрудник     0        253875               покупка жилья   \n",
      "1   сотрудник     0        112080     приобретение автомобиля   \n",
      "2   сотрудник     0        145885               покупка жилья   \n",
      "3   сотрудник     0        267628  дополнительное образование   \n",
      "4   пенсионер     0        158616             сыграть свадьбу   \n",
      "\n",
      "         purpose_categories  \n",
      "0  операции с недвижимостью  \n",
      "1    операции с автомобилем  \n",
      "2  операции с недвижимостью  \n",
      "3     получение образования  \n",
      "4        проведение свадьбы  \n"
     ]
    }
   ],
   "source": [
    "print(df.head(5))"
   ]
  },
  {
   "cell_type": "code",
   "execution_count": 13,
   "id": "c3bbc6c1-5d5d-4505-9007-f6ae2e34a357",
   "metadata": {
    "jupyter": {
     "source_hidden": true
    }
   },
   "outputs": [
    {
     "name": "stdout",
     "output_type": "stream",
     "text": [
      "['D' 'E']\n"
     ]
    }
   ],
   "source": [
    "# Categorising income\n",
    "\n",
    "def categorising_income(income):\n",
    "    if income <= 30000:\n",
    "        return 'E'\n",
    "    elif income > 30000 & income <= 50000:\n",
    "        return 'D'\n",
    "    elif income > 50000 & income <= 200000:\n",
    "        return 'C'\n",
    "    elif income > 200000 & income <= 1000000:\n",
    "        return 'B'\n",
    "    elif income > 1000000:\n",
    "        return 'A'\n",
    "    else:\n",
    "        return 'Income error'\n",
    "\n",
    "df['total_income_category'] = df['total_income'].apply(categorising_income)\n",
    "print(df['total_income_category'].unique())"
   ]
  },
  {
   "cell_type": "code",
   "execution_count": 14,
   "id": "e60bf147-81cd-459d-869a-8a0fc3e9a246",
   "metadata": {
    "jupyter": {
     "source_hidden": true
    }
   },
   "outputs": [
    {
     "name": "stdout",
     "output_type": "stream",
     "text": [
      "children          -1      0      1      2     3    4    5    20\n",
      "family_status_id                                               \n",
      "0                 1.0  516.0  246.0  145.0  17.0  3.0  0.0  3.0\n",
      "1                 0.0  229.0  118.0   30.0   8.0  0.0  0.0  3.0\n",
      "2                 0.0   53.0    7.0    3.0   0.0  0.0  NaN  0.0\n",
      "3                 0.0   55.0   21.0    7.0   1.0  0.0  NaN  1.0\n",
      "4                 0.0  210.0   52.0    9.0   1.0  1.0  NaN  1.0\n"
     ]
    }
   ],
   "source": [
    "data_pivot = df.pivot_table(\n",
    "    index='family_status_id',  # Family\n",
    "    columns='children',     # Kids\n",
    "    values='debt',          # Debts\n",
    "    aggfunc='sum'           # Sum\n",
    ")\n",
    "print(data_pivot)"
   ]
  },
  {
   "cell_type": "code",
   "execution_count": 15,
   "id": "f58776fe-eb3f-45ac-b1ec-4984d2599374",
   "metadata": {
    "jupyter": {
     "source_hidden": true
    },
    "scrolled": true
   },
   "outputs": [
    {
     "name": "stdout",
     "output_type": "stream",
     "text": [
      "       children  days_employed  dob_years  education_id  family_status_id  \\\n",
      "0             1  365213.306266         42             0                 0   \n",
      "1             1  365213.306266         36             1                 0   \n",
      "2             0  365213.306266         33             1                 0   \n",
      "3             3  365213.306266         32             1                 0   \n",
      "4             0  340266.072047         53             1                 1   \n",
      "...         ...            ...        ...           ...               ...   \n",
      "21520         1  365213.306266         43             1                 1   \n",
      "21521         0  343937.404131         67             1                 0   \n",
      "21522         1  365213.306266         38             1                 1   \n",
      "21523         3  365213.306266         38             1                 0   \n",
      "21524         2  365213.306266         40             1                 0   \n",
      "\n",
      "      gender income_type  debt  total_income                       purpose  \\\n",
      "0          F   сотрудник     0        253875                 покупка жилья   \n",
      "1          F   сотрудник     0        112080       приобретение автомобиля   \n",
      "2          M   сотрудник     0        145885                 покупка жилья   \n",
      "3          M   сотрудник     0        267628    дополнительное образование   \n",
      "4          F   пенсионер     0        158616               сыграть свадьбу   \n",
      "...      ...         ...   ...           ...                           ...   \n",
      "21520      F   компаньон     0        224791             операции с жильем   \n",
      "21521      F   пенсионер     0        155999          сделка с автомобилем   \n",
      "21522      M   сотрудник     1         89672                  недвижимость   \n",
      "21523      M   сотрудник     1        244093  на покупку своего автомобиля   \n",
      "21524      F   сотрудник     0         82047         на покупку автомобиля   \n",
      "\n",
      "             purpose_categories total_income_category  \n",
      "0      операции с недвижимостью                     D  \n",
      "1        операции с автомобилем                     D  \n",
      "2      операции с недвижимостью                     D  \n",
      "3         получение образования                     D  \n",
      "4            проведение свадьбы                     D  \n",
      "...                         ...                   ...  \n",
      "21520  операции с недвижимостью                     D  \n",
      "21521    операции с автомобилем                     D  \n",
      "21522  операции с недвижимостью                     D  \n",
      "21523    операции с автомобилем                     D  \n",
      "21524    операции с автомобилем                     D  \n",
      "\n",
      "[21525 rows x 12 columns]\n"
     ]
    }
   ],
   "source": [
    "print(df)"
   ]
  },
  {
   "cell_type": "code",
   "execution_count": 16,
   "id": "4b925dda-86b0-479a-807e-888dcc912381",
   "metadata": {},
   "outputs": [
    {
     "name": "stdout",
     "output_type": "stream",
     "text": [
      "children\n",
      " 0     14149\n",
      " 1      4818\n",
      " 2      2055\n",
      " 3       330\n",
      " 20       76\n",
      "-1        47\n",
      " 4        41\n",
      " 5         9\n",
      "Name: count, dtype: int64\n"
     ]
    }
   ],
   "source": [
    "# Removing NaN\n",
    "df['debt'] = df['debt'].fillna(0)\n",
    "\n",
    "# Checking num of children\n",
    "print(df['children'].value_counts())\n",
    "\n",
    "# A value of -1 for children is impossible and it will be replaced with 0\n",
    "df.loc[df['children'] == -1, 'children'] = 0\n",
    "\n",
    "# The value of 20 children seems highly unlikely\n",
    "median_children = df['children'].median()\n",
    "df.loc[df['children'] == 20, 'children'] = median_children"
   ]
  },
  {
   "cell_type": "code",
   "execution_count": 22,
   "id": "b0e9aaeb-1086-4972-963f-8c4214dd91bd",
   "metadata": {},
   "outputs": [
    {
     "name": "stdout",
     "output_type": "stream",
     "text": [
      "children              0      1      2     3    4    5\n",
      "family_status_id                                     \n",
      "0                 520.0  246.0  145.0  17.0  3.0  0.0\n",
      "1                 232.0  118.0   30.0   8.0  0.0  0.0\n",
      "2                  53.0    7.0    3.0   0.0  0.0  NaN\n",
      "3                  56.0   21.0    7.0   1.0  0.0  NaN\n",
      "4                 211.0   52.0    9.0   1.0  1.0  NaN\n"
     ]
    }
   ],
   "source": [
    "data_pivot_family = df.pivot_table(\n",
    "    index='family_status_id',  \n",
    "    columns='children',                             \n",
    "    values='debt',                                  \n",
    "    aggfunc='sum'                                   \n",
    ")\n",
    "\n",
    "print(data_pivot_family)"
   ]
  },
  {
   "cell_type": "code",
   "execution_count": 25,
   "id": "b6008b97-f374-4f1c-8920-f6150504352d",
   "metadata": {},
   "outputs": [
    {
     "name": "stdout",
     "output_type": "stream",
     "text": [
      "total_income_category      D     E\n",
      "income_type                       \n",
      "безработный              1.0   NaN\n",
      "в декрете                1.0   NaN\n",
      "госслужащий             79.0   7.0\n",
      "компаньон              346.0  30.0\n",
      "пенсионер              179.0  37.0\n",
      "предприниматель          0.0   0.0\n",
      "сотрудник              963.0  98.0\n",
      "студент                  0.0   NaN\n"
     ]
    }
   ],
   "source": [
    "data_pivot_income = df.pivot_table(\n",
    "    index='income_type',  \n",
    "    columns='total_income_category',                            \n",
    "    values='debt',                                                                     \n",
    "    aggfunc='sum'                                   \n",
    ")\n",
    "\n",
    "print(data_pivot_income)"
   ]
  },
  {
   "cell_type": "code",
   "execution_count": 35,
   "id": "36f915b0-eb49-40b9-a73a-2b5a7566c61d",
   "metadata": {},
   "outputs": [
    {
     "name": "stdout",
     "output_type": "stream",
     "text": [
      "purpose_categories        income_type    \n",
      "операции с автомобилем    в декрете            1\n",
      "                          госслужащий         22\n",
      "                          компаньон           85\n",
      "                          пенсионер           51\n",
      "                          сотрудник          244\n",
      "операции с недвижимостью  безработный          1\n",
      "                          госслужащий         36\n",
      "                          компаньон          167\n",
      "                          пенсионер           92\n",
      "                          предприниматель      0\n",
      "                          сотрудник          486\n",
      "                          студент              0\n",
      "получение образования     госслужащий         21\n",
      "                          компаньон           72\n",
      "                          пенсионер           48\n",
      "                          сотрудник          229\n",
      "проведение свадьбы        госслужащий          7\n",
      "                          компаньон           52\n",
      "                          пенсионер           25\n",
      "                          предприниматель      0\n",
      "                          сотрудник          102\n",
      "Name: debt, dtype: int64\n"
     ]
    }
   ],
   "source": [
    "data_debt_purposes = df.groupby(['purpose_categories','income_type'])['debt'].sum()                            \n",
    "\n",
    "print(data_debt_purposes)"
   ]
  },
  {
   "cell_type": "code",
   "execution_count": 37,
   "id": "cb97b2f3-66b0-416f-98c4-280fa232d4c0",
   "metadata": {},
   "outputs": [
    {
     "name": "stdout",
     "output_type": "stream",
     "text": [
      "                          Total Credits  Total Debts  Debt Ratio (%)\n",
      "purpose_categories                                                  \n",
      "операции с автомобилем             4315          403        9.339513\n",
      "получение образования              4022          370        9.199403\n",
      "проведение свадьбы                 2348          186        7.921635\n",
      "операции с недвижимостью          10840          782        7.214022\n"
     ]
    }
   ],
   "source": [
    "# the total number of credits for each purpose \n",
    "total_credits = df.groupby('purpose_categories')['debt'].count()\n",
    "\n",
    "# total number of debts\n",
    "total_debts = df.groupby('purpose_categories')['debt'].sum()\n",
    "\n",
    "# debt ratio\n",
    "debt_ratio = (total_debts / total_credits) * 100\n",
    "\n",
    "# create a DataFrame to summarize the analysis\n",
    "debt_analysis = pd.DataFrame({\n",
    "    'Total Credits': total_credits,  # Total number of credits\n",
    "    'Total Debts': total_debts,      # Total number of debts\n",
    "    'Debt Ratio (%)': debt_ratio     # Percentage of credits with debts\n",
    "}).sort_values(by='Debt Ratio (%)', ascending=False)\n",
    "\n",
    "print(debt_analysis)"
   ]
  }
 ],
 "metadata": {
  "kernelspec": {
   "display_name": "Python 3 (ipykernel)",
   "language": "python",
   "name": "python3"
  },
  "language_info": {
   "codemirror_mode": {
    "name": "ipython",
    "version": 3
   },
   "file_extension": ".py",
   "mimetype": "text/x-python",
   "name": "python",
   "nbconvert_exporter": "python",
   "pygments_lexer": "ipython3",
   "version": "3.13.1"
  }
 },
 "nbformat": 4,
 "nbformat_minor": 5
}
